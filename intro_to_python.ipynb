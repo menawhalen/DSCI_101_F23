{
  "nbformat": 4,
  "nbformat_minor": 0,
  "metadata": {
    "colab": {
      "provenance": [],
      "authorship_tag": "ABX9TyNT8GVO99+QPjMt7J3Dl5o0",
      "include_colab_link": true
    },
    "kernelspec": {
      "name": "python3",
      "display_name": "Python 3"
    },
    "language_info": {
      "name": "python"
    }
  },
  "cells": [
    {
      "cell_type": "markdown",
      "metadata": {
        "id": "view-in-github",
        "colab_type": "text"
      },
      "source": [
        "<a href=\"https://colab.research.google.com/github/menawhalen/DSCI_101_F23/blob/main/intro_to_python.ipynb\" target=\"_parent\"><img src=\"https://colab.research.google.com/assets/colab-badge.svg\" alt=\"Open In Colab\"/></a>"
      ]
    },
    {
      "cell_type": "markdown",
      "source": [
        "# Introduction to Python\n",
        "\n",
        "## What is Python?\n",
        "Python is a versatile programming language known for its readability and wide range of applications, from web development to data analysis. It's often the first choice for beginners due to its simple syntax and extensive community support.\n",
        "\n",
        "## What is Jupyter Notebook?\n",
        "Jupyter Notebook is an open-source web application that allows you to create and share documents that contain live code, equations, visualizations, and narrative text. It's widely used for data analysis, scientific research, and teaching.\n",
        "\n",
        "### Key Features of Jupyter Notebook:\n",
        "- Interactive Coding: You can write and execute code in a step-by-step manner, making it easier to debug and understand the flow.\n",
        "- Rich Media Support: Embed visualizations, equations, and images directly into your notebook.\n",
        "- Markdown Support: Document your process with Markdown, making your notebook both a code and a report.\n",
        "\n",
        "## How to Get Started with Jupyter Notebook\n",
        "1. Using Google Colab\n",
        "Google Colab is a cloud-based platform that allows you to run Jupyter Notebooks without needing to install anything on your local machine. It's particularly convenient for beginners or those who want to avoid setup complexities.\n",
        "\n",
        "- Steps to Access Google Colab:\n",
        "\n",
        "  - Go to Google Colab.\n",
        "\n",
        "  - Sign in with your Google account.\n",
        "\n",
        "  - Click on \"New Notebook\" to create a new Python notebook.\n",
        "\n",
        "You can also open existing notebooks from Google Drive or GitHub.\n",
        "\n",
        "2. Installing Jupyter Notebook Locally (Optional)\n",
        "If you prefer to work locally, you can install Jupyter Notebook on your machine.\n",
        "\n",
        "- Install via Anaconda:\n",
        "Download and install Anaconda from the official website.\n",
        "Launch Anaconda Navigator from your Start menu (Windows) or Applications folder (Mac).\n",
        "In Anaconda Navigator, click \"Launch\" under Jupyter Notebook.\n",
        "- Install via pip:\n",
        "Ensure Python is installed on your system (Python 3.x is recommended).\n",
        "Open a terminal or command prompt.\n",
        "Run the command: pip install notebook\n",
        "Start Jupyter Notebook by typing jupyter notebook in the terminal.\n",
        "\n",
        "3. Starting Jupyter Notebook Locally\n",
        "After installation, open Anaconda Navigator and click \"Launch\" under Jupyter Notebook. Alternatively, open a terminal and run jupyter notebook. This will open Jupyter in your web browser.\n",
        "\n",
        "4. Creating a New Notebook\n",
        "In Jupyter Notebook (either via Google Colab or locally), click \"New\" and select \"Python 3\" to create a new notebook.\n",
        "\n",
        "5. Recommended Workflow\n",
        "- Organization: Keep your work organized by creating folders for each project.\n",
        "- Saving Work: Save your notebook frequently with Ctrl + S or Cmd + S.\n",
        "- Using Markdown: Use Markdown cells to document your code and explain your analysis.\n",
        "- Shortcuts: Get familiar with Jupyter shortcuts like Shift + Enter to run cells.\n",
        "\n"
      ],
      "metadata": {
        "id": "jpTrEYWNCR25"
      }
    }
  ]
}